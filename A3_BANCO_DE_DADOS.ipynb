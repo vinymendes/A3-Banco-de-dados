{
  "nbformat": 4,
  "nbformat_minor": 0,
  "metadata": {
    "colab": {
      "provenance": [],
      "authorship_tag": "ABX9TyMsD64bDXhXFyh+65N2tSM4",
      "include_colab_link": true
    },
    "kernelspec": {
      "name": "python3",
      "display_name": "Python 3"
    },
    "language_info": {
      "name": "python"
    }
  },
  "cells": [
    {
      "cell_type": "markdown",
      "metadata": {
        "id": "view-in-github",
        "colab_type": "text"
      },
      "source": [
        "<a href=\"https://colab.research.google.com/github/vinymendes/A3-Banco-de-dados/blob/main/A3_BANCO_DE_DADOS.ipynb\" target=\"_parent\"><img src=\"https://colab.research.google.com/assets/colab-badge.svg\" alt=\"Open In Colab\"/></a>"
      ]
    },
    {
      "cell_type": "code",
      "execution_count": 1,
      "metadata": {
        "id": "wlqOGar9NQCa"
      },
      "outputs": [],
      "source": [
        "import pandas as pd\n",
        "import matplotlib.pyplot as plt\n",
        "import seaborn as sns\n",
        "import re"
      ]
    },
    {
      "cell_type": "code",
      "source": [
        "url = '/content/obesity-cleaned.csv'\n",
        "df = pd.read_csv(url)\n",
        "df"
      ],
      "metadata": {
        "colab": {
          "base_uri": "https://localhost:8080/",
          "height": 423
        },
        "collapsed": true,
        "id": "S82n5NjHPKlk",
        "outputId": "25d1285a-0d90-4b74-9076-f52b0bda945f"
      },
      "execution_count": 10,
      "outputs": [
        {
          "output_type": "execute_result",
          "data": {
            "text/plain": [
              "       Unnamed: 0      Country  Year       Obesity (%)         Sex\n",
              "0               0  Afghanistan  1975     0.5 [0.2-1.1]  Both sexes\n",
              "1               1  Afghanistan  1975     0.2 [0.0-0.6]        Male\n",
              "2               2  Afghanistan  1975     0.8 [0.2-2.0]      Female\n",
              "3               3  Afghanistan  1976     0.5 [0.2-1.1]  Both sexes\n",
              "4               4  Afghanistan  1976     0.2 [0.0-0.7]        Male\n",
              "...           ...          ...   ...               ...         ...\n",
              "24565       24565     Zimbabwe  2015     4.5 [2.4-7.6]        Male\n",
              "24566       24566     Zimbabwe  2015  24.8 [18.9-31.3]      Female\n",
              "24567       24567     Zimbabwe  2016  15.5 [12.0-19.2]  Both sexes\n",
              "24568       24568     Zimbabwe  2016     4.7 [2.5-8.0]        Male\n",
              "24569       24569     Zimbabwe  2016  25.3 [19.1-32.0]      Female\n",
              "\n",
              "[24570 rows x 5 columns]"
            ],
            "text/html": [
              "\n",
              "  <div id=\"df-323a55c1-c0bd-4a2a-b1de-86605f582e1e\" class=\"colab-df-container\">\n",
              "    <div>\n",
              "<style scoped>\n",
              "    .dataframe tbody tr th:only-of-type {\n",
              "        vertical-align: middle;\n",
              "    }\n",
              "\n",
              "    .dataframe tbody tr th {\n",
              "        vertical-align: top;\n",
              "    }\n",
              "\n",
              "    .dataframe thead th {\n",
              "        text-align: right;\n",
              "    }\n",
              "</style>\n",
              "<table border=\"1\" class=\"dataframe\">\n",
              "  <thead>\n",
              "    <tr style=\"text-align: right;\">\n",
              "      <th></th>\n",
              "      <th>Unnamed: 0</th>\n",
              "      <th>Country</th>\n",
              "      <th>Year</th>\n",
              "      <th>Obesity (%)</th>\n",
              "      <th>Sex</th>\n",
              "    </tr>\n",
              "  </thead>\n",
              "  <tbody>\n",
              "    <tr>\n",
              "      <th>0</th>\n",
              "      <td>0</td>\n",
              "      <td>Afghanistan</td>\n",
              "      <td>1975</td>\n",
              "      <td>0.5 [0.2-1.1]</td>\n",
              "      <td>Both sexes</td>\n",
              "    </tr>\n",
              "    <tr>\n",
              "      <th>1</th>\n",
              "      <td>1</td>\n",
              "      <td>Afghanistan</td>\n",
              "      <td>1975</td>\n",
              "      <td>0.2 [0.0-0.6]</td>\n",
              "      <td>Male</td>\n",
              "    </tr>\n",
              "    <tr>\n",
              "      <th>2</th>\n",
              "      <td>2</td>\n",
              "      <td>Afghanistan</td>\n",
              "      <td>1975</td>\n",
              "      <td>0.8 [0.2-2.0]</td>\n",
              "      <td>Female</td>\n",
              "    </tr>\n",
              "    <tr>\n",
              "      <th>3</th>\n",
              "      <td>3</td>\n",
              "      <td>Afghanistan</td>\n",
              "      <td>1976</td>\n",
              "      <td>0.5 [0.2-1.1]</td>\n",
              "      <td>Both sexes</td>\n",
              "    </tr>\n",
              "    <tr>\n",
              "      <th>4</th>\n",
              "      <td>4</td>\n",
              "      <td>Afghanistan</td>\n",
              "      <td>1976</td>\n",
              "      <td>0.2 [0.0-0.7]</td>\n",
              "      <td>Male</td>\n",
              "    </tr>\n",
              "    <tr>\n",
              "      <th>...</th>\n",
              "      <td>...</td>\n",
              "      <td>...</td>\n",
              "      <td>...</td>\n",
              "      <td>...</td>\n",
              "      <td>...</td>\n",
              "    </tr>\n",
              "    <tr>\n",
              "      <th>24565</th>\n",
              "      <td>24565</td>\n",
              "      <td>Zimbabwe</td>\n",
              "      <td>2015</td>\n",
              "      <td>4.5 [2.4-7.6]</td>\n",
              "      <td>Male</td>\n",
              "    </tr>\n",
              "    <tr>\n",
              "      <th>24566</th>\n",
              "      <td>24566</td>\n",
              "      <td>Zimbabwe</td>\n",
              "      <td>2015</td>\n",
              "      <td>24.8 [18.9-31.3]</td>\n",
              "      <td>Female</td>\n",
              "    </tr>\n",
              "    <tr>\n",
              "      <th>24567</th>\n",
              "      <td>24567</td>\n",
              "      <td>Zimbabwe</td>\n",
              "      <td>2016</td>\n",
              "      <td>15.5 [12.0-19.2]</td>\n",
              "      <td>Both sexes</td>\n",
              "    </tr>\n",
              "    <tr>\n",
              "      <th>24568</th>\n",
              "      <td>24568</td>\n",
              "      <td>Zimbabwe</td>\n",
              "      <td>2016</td>\n",
              "      <td>4.7 [2.5-8.0]</td>\n",
              "      <td>Male</td>\n",
              "    </tr>\n",
              "    <tr>\n",
              "      <th>24569</th>\n",
              "      <td>24569</td>\n",
              "      <td>Zimbabwe</td>\n",
              "      <td>2016</td>\n",
              "      <td>25.3 [19.1-32.0]</td>\n",
              "      <td>Female</td>\n",
              "    </tr>\n",
              "  </tbody>\n",
              "</table>\n",
              "<p>24570 rows × 5 columns</p>\n",
              "</div>\n",
              "    <div class=\"colab-df-buttons\">\n",
              "\n",
              "  <div class=\"colab-df-container\">\n",
              "    <button class=\"colab-df-convert\" onclick=\"convertToInteractive('df-323a55c1-c0bd-4a2a-b1de-86605f582e1e')\"\n",
              "            title=\"Convert this dataframe to an interactive table.\"\n",
              "            style=\"display:none;\">\n",
              "\n",
              "  <svg xmlns=\"http://www.w3.org/2000/svg\" height=\"24px\" viewBox=\"0 -960 960 960\">\n",
              "    <path d=\"M120-120v-720h720v720H120Zm60-500h600v-160H180v160Zm220 220h160v-160H400v160Zm0 220h160v-160H400v160ZM180-400h160v-160H180v160Zm440 0h160v-160H620v160ZM180-180h160v-160H180v160Zm440 0h160v-160H620v160Z\"/>\n",
              "  </svg>\n",
              "    </button>\n",
              "\n",
              "  <style>\n",
              "    .colab-df-container {\n",
              "      display:flex;\n",
              "      gap: 12px;\n",
              "    }\n",
              "\n",
              "    .colab-df-convert {\n",
              "      background-color: #E8F0FE;\n",
              "      border: none;\n",
              "      border-radius: 50%;\n",
              "      cursor: pointer;\n",
              "      display: none;\n",
              "      fill: #1967D2;\n",
              "      height: 32px;\n",
              "      padding: 0 0 0 0;\n",
              "      width: 32px;\n",
              "    }\n",
              "\n",
              "    .colab-df-convert:hover {\n",
              "      background-color: #E2EBFA;\n",
              "      box-shadow: 0px 1px 2px rgba(60, 64, 67, 0.3), 0px 1px 3px 1px rgba(60, 64, 67, 0.15);\n",
              "      fill: #174EA6;\n",
              "    }\n",
              "\n",
              "    .colab-df-buttons div {\n",
              "      margin-bottom: 4px;\n",
              "    }\n",
              "\n",
              "    [theme=dark] .colab-df-convert {\n",
              "      background-color: #3B4455;\n",
              "      fill: #D2E3FC;\n",
              "    }\n",
              "\n",
              "    [theme=dark] .colab-df-convert:hover {\n",
              "      background-color: #434B5C;\n",
              "      box-shadow: 0px 1px 3px 1px rgba(0, 0, 0, 0.15);\n",
              "      filter: drop-shadow(0px 1px 2px rgba(0, 0, 0, 0.3));\n",
              "      fill: #FFFFFF;\n",
              "    }\n",
              "  </style>\n",
              "\n",
              "    <script>\n",
              "      const buttonEl =\n",
              "        document.querySelector('#df-323a55c1-c0bd-4a2a-b1de-86605f582e1e button.colab-df-convert');\n",
              "      buttonEl.style.display =\n",
              "        google.colab.kernel.accessAllowed ? 'block' : 'none';\n",
              "\n",
              "      async function convertToInteractive(key) {\n",
              "        const element = document.querySelector('#df-323a55c1-c0bd-4a2a-b1de-86605f582e1e');\n",
              "        const dataTable =\n",
              "          await google.colab.kernel.invokeFunction('convertToInteractive',\n",
              "                                                    [key], {});\n",
              "        if (!dataTable) return;\n",
              "\n",
              "        const docLinkHtml = 'Like what you see? Visit the ' +\n",
              "          '<a target=\"_blank\" href=https://colab.research.google.com/notebooks/data_table.ipynb>data table notebook</a>'\n",
              "          + ' to learn more about interactive tables.';\n",
              "        element.innerHTML = '';\n",
              "        dataTable['output_type'] = 'display_data';\n",
              "        await google.colab.output.renderOutput(dataTable, element);\n",
              "        const docLink = document.createElement('div');\n",
              "        docLink.innerHTML = docLinkHtml;\n",
              "        element.appendChild(docLink);\n",
              "      }\n",
              "    </script>\n",
              "  </div>\n",
              "\n",
              "\n",
              "<div id=\"df-218252e0-4a17-42fd-9775-4db67ce08879\">\n",
              "  <button class=\"colab-df-quickchart\" onclick=\"quickchart('df-218252e0-4a17-42fd-9775-4db67ce08879')\"\n",
              "            title=\"Suggest charts\"\n",
              "            style=\"display:none;\">\n",
              "\n",
              "<svg xmlns=\"http://www.w3.org/2000/svg\" height=\"24px\"viewBox=\"0 0 24 24\"\n",
              "     width=\"24px\">\n",
              "    <g>\n",
              "        <path d=\"M19 3H5c-1.1 0-2 .9-2 2v14c0 1.1.9 2 2 2h14c1.1 0 2-.9 2-2V5c0-1.1-.9-2-2-2zM9 17H7v-7h2v7zm4 0h-2V7h2v10zm4 0h-2v-4h2v4z\"/>\n",
              "    </g>\n",
              "</svg>\n",
              "  </button>\n",
              "\n",
              "<style>\n",
              "  .colab-df-quickchart {\n",
              "      --bg-color: #E8F0FE;\n",
              "      --fill-color: #1967D2;\n",
              "      --hover-bg-color: #E2EBFA;\n",
              "      --hover-fill-color: #174EA6;\n",
              "      --disabled-fill-color: #AAA;\n",
              "      --disabled-bg-color: #DDD;\n",
              "  }\n",
              "\n",
              "  [theme=dark] .colab-df-quickchart {\n",
              "      --bg-color: #3B4455;\n",
              "      --fill-color: #D2E3FC;\n",
              "      --hover-bg-color: #434B5C;\n",
              "      --hover-fill-color: #FFFFFF;\n",
              "      --disabled-bg-color: #3B4455;\n",
              "      --disabled-fill-color: #666;\n",
              "  }\n",
              "\n",
              "  .colab-df-quickchart {\n",
              "    background-color: var(--bg-color);\n",
              "    border: none;\n",
              "    border-radius: 50%;\n",
              "    cursor: pointer;\n",
              "    display: none;\n",
              "    fill: var(--fill-color);\n",
              "    height: 32px;\n",
              "    padding: 0;\n",
              "    width: 32px;\n",
              "  }\n",
              "\n",
              "  .colab-df-quickchart:hover {\n",
              "    background-color: var(--hover-bg-color);\n",
              "    box-shadow: 0 1px 2px rgba(60, 64, 67, 0.3), 0 1px 3px 1px rgba(60, 64, 67, 0.15);\n",
              "    fill: var(--button-hover-fill-color);\n",
              "  }\n",
              "\n",
              "  .colab-df-quickchart-complete:disabled,\n",
              "  .colab-df-quickchart-complete:disabled:hover {\n",
              "    background-color: var(--disabled-bg-color);\n",
              "    fill: var(--disabled-fill-color);\n",
              "    box-shadow: none;\n",
              "  }\n",
              "\n",
              "  .colab-df-spinner {\n",
              "    border: 2px solid var(--fill-color);\n",
              "    border-color: transparent;\n",
              "    border-bottom-color: var(--fill-color);\n",
              "    animation:\n",
              "      spin 1s steps(1) infinite;\n",
              "  }\n",
              "\n",
              "  @keyframes spin {\n",
              "    0% {\n",
              "      border-color: transparent;\n",
              "      border-bottom-color: var(--fill-color);\n",
              "      border-left-color: var(--fill-color);\n",
              "    }\n",
              "    20% {\n",
              "      border-color: transparent;\n",
              "      border-left-color: var(--fill-color);\n",
              "      border-top-color: var(--fill-color);\n",
              "    }\n",
              "    30% {\n",
              "      border-color: transparent;\n",
              "      border-left-color: var(--fill-color);\n",
              "      border-top-color: var(--fill-color);\n",
              "      border-right-color: var(--fill-color);\n",
              "    }\n",
              "    40% {\n",
              "      border-color: transparent;\n",
              "      border-right-color: var(--fill-color);\n",
              "      border-top-color: var(--fill-color);\n",
              "    }\n",
              "    60% {\n",
              "      border-color: transparent;\n",
              "      border-right-color: var(--fill-color);\n",
              "    }\n",
              "    80% {\n",
              "      border-color: transparent;\n",
              "      border-right-color: var(--fill-color);\n",
              "      border-bottom-color: var(--fill-color);\n",
              "    }\n",
              "    90% {\n",
              "      border-color: transparent;\n",
              "      border-bottom-color: var(--fill-color);\n",
              "    }\n",
              "  }\n",
              "</style>\n",
              "\n",
              "  <script>\n",
              "    async function quickchart(key) {\n",
              "      const quickchartButtonEl =\n",
              "        document.querySelector('#' + key + ' button');\n",
              "      quickchartButtonEl.disabled = true;  // To prevent multiple clicks.\n",
              "      quickchartButtonEl.classList.add('colab-df-spinner');\n",
              "      try {\n",
              "        const charts = await google.colab.kernel.invokeFunction(\n",
              "            'suggestCharts', [key], {});\n",
              "      } catch (error) {\n",
              "        console.error('Error during call to suggestCharts:', error);\n",
              "      }\n",
              "      quickchartButtonEl.classList.remove('colab-df-spinner');\n",
              "      quickchartButtonEl.classList.add('colab-df-quickchart-complete');\n",
              "    }\n",
              "    (() => {\n",
              "      let quickchartButtonEl =\n",
              "        document.querySelector('#df-218252e0-4a17-42fd-9775-4db67ce08879 button');\n",
              "      quickchartButtonEl.style.display =\n",
              "        google.colab.kernel.accessAllowed ? 'block' : 'none';\n",
              "    })();\n",
              "  </script>\n",
              "</div>\n",
              "\n",
              "  <div id=\"id_68b3b9b1-fc2b-402c-a36e-99d098634e2e\">\n",
              "    <style>\n",
              "      .colab-df-generate {\n",
              "        background-color: #E8F0FE;\n",
              "        border: none;\n",
              "        border-radius: 50%;\n",
              "        cursor: pointer;\n",
              "        display: none;\n",
              "        fill: #1967D2;\n",
              "        height: 32px;\n",
              "        padding: 0 0 0 0;\n",
              "        width: 32px;\n",
              "      }\n",
              "\n",
              "      .colab-df-generate:hover {\n",
              "        background-color: #E2EBFA;\n",
              "        box-shadow: 0px 1px 2px rgba(60, 64, 67, 0.3), 0px 1px 3px 1px rgba(60, 64, 67, 0.15);\n",
              "        fill: #174EA6;\n",
              "      }\n",
              "\n",
              "      [theme=dark] .colab-df-generate {\n",
              "        background-color: #3B4455;\n",
              "        fill: #D2E3FC;\n",
              "      }\n",
              "\n",
              "      [theme=dark] .colab-df-generate:hover {\n",
              "        background-color: #434B5C;\n",
              "        box-shadow: 0px 1px 3px 1px rgba(0, 0, 0, 0.15);\n",
              "        filter: drop-shadow(0px 1px 2px rgba(0, 0, 0, 0.3));\n",
              "        fill: #FFFFFF;\n",
              "      }\n",
              "    </style>\n",
              "    <button class=\"colab-df-generate\" onclick=\"generateWithVariable('df')\"\n",
              "            title=\"Generate code using this dataframe.\"\n",
              "            style=\"display:none;\">\n",
              "\n",
              "  <svg xmlns=\"http://www.w3.org/2000/svg\" height=\"24px\"viewBox=\"0 0 24 24\"\n",
              "       width=\"24px\">\n",
              "    <path d=\"M7,19H8.4L18.45,9,17,7.55,7,17.6ZM5,21V16.75L18.45,3.32a2,2,0,0,1,2.83,0l1.4,1.43a1.91,1.91,0,0,1,.58,1.4,1.91,1.91,0,0,1-.58,1.4L9.25,21ZM18.45,9,17,7.55Zm-12,3A5.31,5.31,0,0,0,4.9,8.1,5.31,5.31,0,0,0,1,6.5,5.31,5.31,0,0,0,4.9,4.9,5.31,5.31,0,0,0,6.5,1,5.31,5.31,0,0,0,8.1,4.9,5.31,5.31,0,0,0,12,6.5,5.46,5.46,0,0,0,6.5,12Z\"/>\n",
              "  </svg>\n",
              "    </button>\n",
              "    <script>\n",
              "      (() => {\n",
              "      const buttonEl =\n",
              "        document.querySelector('#id_68b3b9b1-fc2b-402c-a36e-99d098634e2e button.colab-df-generate');\n",
              "      buttonEl.style.display =\n",
              "        google.colab.kernel.accessAllowed ? 'block' : 'none';\n",
              "\n",
              "      buttonEl.onclick = () => {\n",
              "        google.colab.notebook.generateWithVariable('df');\n",
              "      }\n",
              "      })();\n",
              "    </script>\n",
              "  </div>\n",
              "\n",
              "    </div>\n",
              "  </div>\n"
            ],
            "application/vnd.google.colaboratory.intrinsic+json": {
              "type": "dataframe",
              "variable_name": "df",
              "summary": "{\n  \"name\": \"df\",\n  \"rows\": 24570,\n  \"fields\": [\n    {\n      \"column\": \"Unnamed: 0\",\n      \"properties\": {\n        \"dtype\": \"number\",\n        \"std\": 7092,\n        \"min\": 0,\n        \"max\": 24569,\n        \"num_unique_values\": 24570,\n        \"samples\": [\n          5553,\n          2141,\n          3053\n        ],\n        \"semantic_type\": \"\",\n        \"description\": \"\"\n      }\n    },\n    {\n      \"column\": \"Country\",\n      \"properties\": {\n        \"dtype\": \"category\",\n        \"num_unique_values\": 195,\n        \"samples\": [\n          \"Qatar\",\n          \"Belgium\",\n          \"Sierra Leone\"\n        ],\n        \"semantic_type\": \"\",\n        \"description\": \"\"\n      }\n    },\n    {\n      \"column\": \"Year\",\n      \"properties\": {\n        \"dtype\": \"number\",\n        \"std\": 12,\n        \"min\": 1975,\n        \"max\": 2016,\n        \"num_unique_values\": 42,\n        \"samples\": [\n          2000,\n          1988,\n          1983\n        ],\n        \"semantic_type\": \"\",\n        \"description\": \"\"\n      }\n    },\n    {\n      \"column\": \"Obesity (%)\",\n      \"properties\": {\n        \"dtype\": \"string\",\n        \"num_unique_values\": 16375,\n        \"samples\": [\n          \"1.6 [0.8-2.7]\",\n          \"47.0 [41.1-52.9]\",\n          \"7.9 [5.3-10.9]\"\n        ],\n        \"semantic_type\": \"\",\n        \"description\": \"\"\n      }\n    },\n    {\n      \"column\": \"Sex\",\n      \"properties\": {\n        \"dtype\": \"category\",\n        \"num_unique_values\": 3,\n        \"samples\": [\n          \"Both sexes\",\n          \"Male\",\n          \"Female\"\n        ],\n        \"semantic_type\": \"\",\n        \"description\": \"\"\n      }\n    }\n  ]\n}"
            }
          },
          "metadata": {},
          "execution_count": 10
        }
      ]
    },
    {
      "cell_type": "code",
      "source": [
        "def extrair_floats(string):\n",
        "    match = re.search(r'\\d+\\.\\d+', string)\n",
        "    return float(match.group()) if match else None\n",
        "df['Obesity'] = df['Obesity (%)'].apply(extrair_floats).astype(float)"
      ],
      "metadata": {
        "id": "gZPuvURGRIhp"
      },
      "execution_count": 19,
      "outputs": []
    },
    {
      "cell_type": "code",
      "source": [
        "# Primeiro, vamos separar os dados por sexo\n",
        "df_homem = df[df['Sex'] == 'Male']['Obesity']\n",
        "df_mulher = df[df['Sex'] == 'Female']['Obesity']\n",
        "\n",
        "# Calculando estatísticas para cada grupo\n",
        "media_homem = df_homem.mean()\n",
        "media_mulher = df_mulher.mean()\n",
        "desvio_padrao_homem = df_homem.std()\n",
        "desvio_padrao_mulher = df_mulher.std()\n",
        "\n",
        "# Imprimir os resultados\n",
        "print(f\"Média de obesidade em homens: {media_homem}\")\n",
        "print(f\"Média de obesidade em mulheres: {media_mulher}\")\n",
        "print(f\"Desvio padrão de obesidade em homens: {desvio_padrao_homem}\")\n",
        "print(f\"Desvio padrão de obesidade em mulheres: {desvio_padrao_mulher}\")\n"
      ],
      "metadata": {
        "colab": {
          "base_uri": "https://localhost:8080/"
        },
        "id": "ITBWA1T7PdoF",
        "outputId": "7573d8a3-0108-4ce3-b41c-08934fedfdb8"
      },
      "execution_count": 20,
      "outputs": [
        {
          "output_type": "stream",
          "name": "stdout",
          "text": [
            "Média de obesidade em homens: 9.332984293193716\n",
            "Média de obesidade em mulheres: 15.533433059087509\n",
            "Desvio padrão de obesidade em homens: 8.981005683046886\n",
            "Desvio padrão de obesidade em mulheres: 11.316294250034616\n"
          ]
        }
      ]
    },
    {
      "cell_type": "code",
      "source": [
        "# Filtrando o dataframe para incluir apenas os dados da América do Norte de 2010\n",
        "df_north_america_2010 = df[(df['Country'] == 'North America') & (df['Year'] == 2010)]\n",
        "\n",
        "# Calculando a média de obesidade para cada sexo\n",
        "media_obesidade_homem = df_north_america_2010[df_north_america_2010['Sex'] == 'Male']['Obesity'].mean()\n",
        "media_obesidade_mulher = df_north_america_2010[df_north_america_2010['Sex'] == 'Female']['Obesity'].mean()\n",
        "\n",
        "# Imprimindo os resultados\n",
        "print(f\"Percentual médio de obesidade em homens na América do Norte em 2010: {media_obesidade_homem}%\")\n",
        "print(f\"Percentual médio de obesidade em mulheres na América do Norte em 2010: {media_obesidade_mulher}%\")\n"
      ],
      "metadata": {
        "colab": {
          "base_uri": "https://localhost:8080/"
        },
        "id": "LV3AEIimRA-t",
        "outputId": "40aa080a-ddba-4ae7-c2b6-3983ff4679eb"
      },
      "execution_count": 22,
      "outputs": [
        {
          "output_type": "stream",
          "name": "stdout",
          "text": [
            "Percentual médio de obesidade em homens na América do Norte em 2010: nan%\n",
            "Percentual médio de obesidade em mulheres na América do Norte em 2010: nan%\n"
          ]
        }
      ]
    },
    {
      "cell_type": "code",
      "source": [
        "# Filtro para a América do Norte e o ano de 2010\n",
        "df_north_america_2010 = df[(df['Country'] == 'North America') & (df['Year'] == 2010)]\n",
        "\n",
        "# Verificando se o dataframe filtrado não está vazio\n",
        "if not df_north_america_2010.empty:\n",
        "    # Tratamento de valores ausentes\n",
        "    df_north_america_2010['Obesity'].fillna(df_north_america_2010['Obesity'].mean(), inplace=True)\n",
        "\n",
        "    # Cálculo da média de obesidade por sexo\n",
        "    media_obesidade_homem = df_north_america_2010[df_north_america_2010['Sex'] == 'Male']['Obesity'].mean()\n",
        "    media_obesidade_mulher = df_north_america_2010[df_north_america_2010['Sex'] == 'Female']['Obesity'].mean()\n",
        "\n",
        "    # Imprimindo os resultados\n",
        "    print(f\"Percentual médio de obesidade em homens na América do Norte em 2010: {media_obesidade_homem:.2f}%\")\n",
        "    print(f\"Percentual médio de obesidade em mulheres na América do Norte em 2010: {media_obesidade_mulher:.2f}%\")\n",
        "else:\n",
        "    print(\"Não há dados suficientes para calcular a média de obesidade na América do Norte em 2010.\")\n"
      ],
      "metadata": {
        "colab": {
          "base_uri": "https://localhost:8080/"
        },
        "id": "Gx4OYWDLWrms",
        "outputId": "e5bdec16-ecfe-4879-aab5-30ddfaf1db46"
      },
      "execution_count": 25,
      "outputs": [
        {
          "output_type": "stream",
          "name": "stdout",
          "text": [
            "Não há dados suficientes para calcular a média de obesidade na América do Norte em 2010.\n"
          ]
        }
      ]
    },
    {
      "cell_type": "code",
      "source": [
        "print('df.columns')"
      ],
      "metadata": {
        "colab": {
          "base_uri": "https://localhost:8080/"
        },
        "id": "7UOcheCsXEZK",
        "outputId": "80584b97-a36d-4cb4-f011-1f57af748ce9"
      },
      "execution_count": 26,
      "outputs": [
        {
          "output_type": "stream",
          "name": "stdout",
          "text": [
            "df.columns\n"
          ]
        }
      ]
    },
    {
      "cell_type": "code",
      "source": [
        "print(df['Country'].unique())"
      ],
      "metadata": {
        "colab": {
          "base_uri": "https://localhost:8080/"
        },
        "id": "8mReyxYPXitb",
        "outputId": "aa7cd0af-1080-4401-9fe4-f1a1b2e60178"
      },
      "execution_count": 27,
      "outputs": [
        {
          "output_type": "stream",
          "name": "stdout",
          "text": [
            "['Afghanistan' 'Albania' 'Algeria' 'Andorra' 'Angola'\n",
            " 'Antigua and Barbuda' 'Argentina' 'Armenia' 'Australia' 'Austria'\n",
            " 'Azerbaijan' 'Bahamas' 'Bahrain' 'Bangladesh' 'Barbados' 'Belarus'\n",
            " 'Belgium' 'Belize' 'Benin' 'Bhutan' 'Bolivia (Plurinational State of)'\n",
            " 'Bosnia and Herzegovina' 'Botswana' 'Brazil' 'Brunei Darussalam'\n",
            " 'Bulgaria' 'Burkina Faso' 'Burundi' 'Cabo Verde' 'Cambodia' 'Cameroon'\n",
            " 'Canada' 'Central African Republic' 'Chad' 'Chile' 'China' 'Colombia'\n",
            " 'Comoros' 'Congo' 'Cook Islands' 'Costa Rica' 'Croatia' 'Cuba' 'Cyprus'\n",
            " 'Czechia' \"Côte d'Ivoire\" \"Democratic People's Republic of Korea\"\n",
            " 'Democratic Republic of the Congo' 'Denmark' 'Djibouti' 'Dominica'\n",
            " 'Dominican Republic' 'Ecuador' 'Egypt' 'El Salvador' 'Equatorial Guinea'\n",
            " 'Eritrea' 'Estonia' 'Eswatini' 'Ethiopia' 'Fiji' 'Finland' 'France'\n",
            " 'Gabon' 'Gambia' 'Georgia' 'Germany' 'Ghana' 'Greece' 'Grenada'\n",
            " 'Guatemala' 'Guinea' 'Guinea-Bissau' 'Guyana' 'Haiti' 'Honduras'\n",
            " 'Hungary' 'Iceland' 'India' 'Indonesia' 'Iran (Islamic Republic of)'\n",
            " 'Iraq' 'Ireland' 'Israel' 'Italy' 'Jamaica' 'Japan' 'Jordan' 'Kazakhstan'\n",
            " 'Kenya' 'Kiribati' 'Kuwait' 'Kyrgyzstan'\n",
            " \"Lao People's Democratic Republic\" 'Latvia' 'Lebanon' 'Lesotho' 'Liberia'\n",
            " 'Libya' 'Lithuania' 'Luxembourg' 'Madagascar' 'Malawi' 'Malaysia'\n",
            " 'Maldives' 'Mali' 'Malta' 'Marshall Islands' 'Mauritania' 'Mauritius'\n",
            " 'Mexico' 'Micronesia (Federated States of)' 'Monaco' 'Mongolia'\n",
            " 'Montenegro' 'Morocco' 'Mozambique' 'Myanmar' 'Namibia' 'Nauru' 'Nepal'\n",
            " 'Netherlands' 'New Zealand' 'Nicaragua' 'Niger' 'Nigeria' 'Niue' 'Norway'\n",
            " 'Oman' 'Pakistan' 'Palau' 'Panama' 'Papua New Guinea' 'Paraguay' 'Peru'\n",
            " 'Philippines' 'Poland' 'Portugal' 'Qatar' 'Republic of Korea'\n",
            " 'Republic of Moldova' 'Republic of North Macedonia' 'Romania'\n",
            " 'Russian Federation' 'Rwanda' 'Saint Kitts and Nevis' 'Saint Lucia'\n",
            " 'Saint Vincent and the Grenadines' 'Samoa' 'San Marino'\n",
            " 'Sao Tome and Principe' 'Saudi Arabia' 'Senegal' 'Serbia' 'Seychelles'\n",
            " 'Sierra Leone' 'Singapore' 'Slovakia' 'Slovenia' 'Solomon Islands'\n",
            " 'Somalia' 'South Africa' 'South Sudan' 'Spain' 'Sri Lanka' 'Sudan'\n",
            " 'Sudan (former)' 'Suriname' 'Sweden' 'Switzerland' 'Syrian Arab Republic'\n",
            " 'Tajikistan' 'Thailand' 'Timor-Leste' 'Togo' 'Tonga'\n",
            " 'Trinidad and Tobago' 'Tunisia' 'Turkey' 'Turkmenistan' 'Tuvalu' 'Uganda'\n",
            " 'Ukraine' 'United Arab Emirates'\n",
            " 'United Kingdom of Great Britain and Northern Ireland'\n",
            " 'United Republic of Tanzania' 'United States of America' 'Uruguay'\n",
            " 'Uzbekistan' 'Vanuatu' 'Venezuela (Bolivarian Republic of)' 'Viet Nam'\n",
            " 'Yemen' 'Zambia' 'Zimbabwe']\n"
          ]
        }
      ]
    },
    {
      "cell_type": "code",
      "source": [
        "print(df['Year'].unique())"
      ],
      "metadata": {
        "colab": {
          "base_uri": "https://localhost:8080/"
        },
        "id": "RbK24jXwXpm7",
        "outputId": "67ca3160-2aca-442e-98f5-0e1a1e2a57b7"
      },
      "execution_count": 28,
      "outputs": [
        {
          "output_type": "stream",
          "name": "stdout",
          "text": [
            "[1975 1976 1977 1978 1979 1980 1981 1982 1983 1984 1985 1986 1987 1988\n",
            " 1989 1990 1991 1992 1993 1994 1995 1996 1997 1998 1999 2000 2001 2002\n",
            " 2003 2004 2005 2006 2007 2008 2009 2010 2011 2012 2013 2014 2015 2016]\n"
          ]
        }
      ]
    },
    {
      "cell_type": "code",
      "source": [
        "df_north_america_2010 = df[(df['Country'].isin(['North America', 'USA', 'Canada', 'Mexico'])) & (df['Year'] == 2010)].copy()"
      ],
      "metadata": {
        "id": "FV_V_nluXswM"
      },
      "execution_count": 31,
      "outputs": []
    },
    {
      "cell_type": "code",
      "source": [
        "if not df_north_america_2010.empty:\n",
        "    # Tratando os valores ausentes\n",
        "    df_north_america_2010['Obesity'].fillna(df_north_america_2010['Obesity'].mean(), inplace=True)\n",
        "\n",
        "    # Calculando a média de obesidade por sexo\n",
        "    media_obesidade_homem = df_north_america_2010[df_north_america_2010['Sex'] == 'Male']['Obesity'].mean()\n",
        "    media_obesidade_mulher = df_north_america_2010[df_north_america_2010['Sex'] == 'Female']['Obesity'].mean()\n",
        "\n",
        "    # Imprimindo os resultados\n",
        "    print(f\"Percentual médio de obesidade em homens na América do Norte em 2010: {media_obesidade_homem:.2f}%\")\n",
        "    print(f\"Percentual médio de obesidade em mulheres na América do Norte em 2010: {media_obesidade_mulher:.2f}%\")\n",
        "else:\n",
        "    print(\"Não há dados suficientes para calcular a média de obesidade na América do Norte em 2010.\")"
      ],
      "metadata": {
        "colab": {
          "base_uri": "https://localhost:8080/"
        },
        "id": "WgAyOuaAXxyj",
        "outputId": "61aa0471-e4a9-4deb-c7a5-52f3cfb43f00"
      },
      "execution_count": 32,
      "outputs": [
        {
          "output_type": "stream",
          "name": "stdout",
          "text": [
            "Percentual médio de obesidade em homens na América do Norte em 2010: 23.45%\n",
            "Percentual médio de obesidade em mulheres na América do Norte em 2010: 28.00%\n"
          ]
        }
      ]
    },
    {
      "cell_type": "code",
      "source": [
        "# Filtrando os dados para os anos de 2010 e 2016\n",
        "df_2010 = df[df['Year'] == 2010]\n",
        "df_2016 = df[df['Year'] == 2016]\n",
        "\n",
        "# Calculando a taxa de aumento para cada país\n",
        "taxa_aumento = (df_2016.groupby('Country')['Obesity'].mean() - df_2010.groupby('Country')['Obesity'].mean()) / df_2010.groupby('Country')['Obesity'].mean()\n",
        "\n",
        "# Classificando os países com base na taxa de aumento\n",
        "top_aumento = taxa_aumento.nlargest(3)\n",
        "top_diminuicao = taxa_aumento.nsmallest(3)\n",
        "\n",
        "# Imprimindo os resultados\n",
        "print(\"Top 3 países com maior aumento na taxa de obesidade de 2010 a 2016:\")\n",
        "print(top_aumento)\n",
        "\n",
        "print(\"\\nTop 3 países com menor aumento (ou diminuição) na taxa de obesidade de 2010 a 2016:\")\n",
        "print(top_diminuicao)"
      ],
      "metadata": {
        "colab": {
          "base_uri": "https://localhost:8080/"
        },
        "id": "9SByEdEkX15r",
        "outputId": "92baba7d-e4cf-4319-b8b1-d6728fb2423e"
      },
      "execution_count": 33,
      "outputs": [
        {
          "output_type": "stream",
          "name": "stdout",
          "text": [
            "Top 3 países com maior aumento na taxa de obesidade de 2010 a 2016:\n",
            "Country\n",
            "Viet Nam                            0.575000\n",
            "Lao People's Democratic Republic    0.509615\n",
            "Maldives                            0.449438\n",
            "Name: Obesity, dtype: float64\n",
            "\n",
            "Top 3 países com menor aumento (ou diminuição) na taxa de obesidade de 2010 a 2016:\n",
            "Country\n",
            "Nauru           0.035654\n",
            "Andorra         0.050616\n",
            "Cook Islands    0.062065\n",
            "Name: Obesity, dtype: float64\n"
          ]
        }
      ]
    },
    {
      "cell_type": "code",
      "source": [
        "# Obtendo o primeiro e o último registro de obesidade para cada país\n",
        "primeiro_registro = df.groupby('Country')['Obesity'].first()\n",
        "ultimo_registro = df.groupby('Country')['Obesity'].last()\n",
        "\n",
        "# Calculando a taxa de aumento para cada país\n",
        "taxa_aumento_total = (ultimo_registro - primeiro_registro) / primeiro_registro\n",
        "\n",
        "# Classificando os países com base na taxa de aumento\n",
        "top_aumento_total = taxa_aumento_total.nlargest(3)\n",
        "top_diminuicao_total = taxa_aumento_total.nsmallest(3)\n",
        "\n",
        "# Imprimindo os resultados\n",
        "print(\"Top 3 países com maior aumento na taxa de obesidade durante todo o período:\")\n",
        "print(top_aumento_total)\n",
        "\n",
        "print(\"\\nTop 3 países com menor aumento (ou diminuição) na taxa de obesidade durante todo o período:\")\n",
        "print(top_diminuicao_total)\n"
      ],
      "metadata": {
        "colab": {
          "base_uri": "https://localhost:8080/"
        },
        "id": "BEDdSeXjZWbs",
        "outputId": "07fcd85b-2d38-4f19-8996-2891ec3df85f"
      },
      "execution_count": 34,
      "outputs": [
        {
          "output_type": "stream",
          "name": "stdout",
          "text": [
            "Top 3 países com maior aumento na taxa de obesidade durante todo o período:\n",
            "Country\n",
            "Viet Nam       25.0\n",
            "Bangladesh     24.0\n",
            "Timor-Leste    23.5\n",
            "Name: Obesity, dtype: float64\n",
            "\n",
            "Top 3 países com menor aumento (ou diminuição) na taxa de obesidade durante todo o período:\n",
            "Country\n",
            "Nauru      0.422472\n",
            "Estonia    0.716535\n",
            "Malta      0.826923\n",
            "Name: Obesity, dtype: float64\n"
          ]
        }
      ]
    },
    {
      "cell_type": "code",
      "source": [
        "# Filtrando o dataframe para incluir apenas os dados do Brasil\n",
        "df_brasil = df[df['Country'] == 'Brazil']\n",
        "\n",
        "# Estatísticas descritivas\n",
        "print(df_brasil['Obesity'].describe())\n",
        "\n",
        "# Tendência de obesidade ao longo do tempo\n",
        "plt.figure(figsize=(10, 6))\n",
        "sns.lineplot(data=df_brasil, x='Year', y='Obesity', hue='Sex', marker='o')\n",
        "plt.title('Tendência de Obesidade no Brasil por Sexo')\n",
        "plt.xlabel('Ano')\n",
        "plt.ylabel('Índice de Obesidade (%)')\n",
        "plt.legend(title='Sexo')\n",
        "plt.show()"
      ],
      "metadata": {
        "colab": {
          "base_uri": "https://localhost:8080/",
          "height": 607
        },
        "id": "rW9C-d3taGSy",
        "outputId": "d3954343-51a5-4b60-8e87-0052b8c50cd1"
      },
      "execution_count": 35,
      "outputs": [
        {
          "output_type": "stream",
          "name": "stdout",
          "text": [
            "count    126.000000\n",
            "mean      12.801587\n",
            "std        5.705927\n",
            "min        3.000000\n",
            "25%        8.150000\n",
            "50%       12.250000\n",
            "75%       17.225000\n",
            "max       25.400000\n",
            "Name: Obesity, dtype: float64\n"
          ]
        },
        {
          "output_type": "display_data",
          "data": {
            "text/plain": [
              "<Figure size 1000x600 with 1 Axes>"
            ],
            "image/png": "[encoded data removed]"
          },
          "metadata": {}
        }
      ]
    },
    {
      "cell_type": "code",
      "source": [
        "# Filtrando o dataframe para incluir apenas os dados do Brasil\n",
        "df_brasil = df[df['Country'] == 'Brazil']\n",
        "\n",
        "# Calculando a média de obesidade por sexo\n",
        "media_obesidade_por_sexo = df_brasil.groupby('Sex')['Obesity'].mean().reset_index()\n",
        "\n",
        "# Criando um gráfico de barras para mostrar a média de obesidade por sexo\n",
        "plt.figure(figsize=(10, 6))\n",
        "sns.barplot(data=media_obesidade_por_sexo, x='Sex', y='Obesity')\n",
        "plt.title('Média de Obesidade no Brasil por Sexo')\n",
        "plt.xlabel('Sexo')\n",
        "plt.ylabel('Índice de Obesidade Médio (%)')\n",
        "plt.show()\n"
      ],
      "metadata": {
        "colab": {
          "base_uri": "https://localhost:8080/",
          "height": 451
        },
        "id": "JWZhYorLa-TW",
        "outputId": "1813fac7-98df-4fed-c578-0c70adb5d3a7"
      },
      "execution_count": 37,
      "outputs": [
        {
          "output_type": "display_data",
          "data": {
            "text/plain": [
              "<Figure size 1000x600 with 1 Axes>"
            ],
            "image/png": "[encoded data removed]"
          },
          "metadata": {}
        }
      ]
    },
    {
      "cell_type": "code",
      "source": [],
      "metadata": {
        "id": "R6iECKaha_N1"
      },
      "execution_count": null,
      "outputs": []
    }
  ]
}